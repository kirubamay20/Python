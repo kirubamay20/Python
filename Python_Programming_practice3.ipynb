{
  "nbformat": 4,
  "nbformat_minor": 0,
  "metadata": {
    "colab": {
      "name": "Python_Programming_practice3.ipynb",
      "provenance": [],
      "collapsed_sections": [],
      "authorship_tag": "ABX9TyMr8FKzSVZlRdp9km0FhrST",
      "include_colab_link": true
    },
    "kernelspec": {
      "name": "python3",
      "display_name": "Python 3"
    }
  },
  "cells": [
    {
      "cell_type": "markdown",
      "metadata": {
        "id": "view-in-github",
        "colab_type": "text"
      },
      "source": [
        "<a href=\"https://colab.research.google.com/github/kirubamay20/Python/blob/master/Python_Programming_practice3.ipynb\" target=\"_parent\"><img src=\"https://colab.research.google.com/assets/colab-badge.svg\" alt=\"Open In Colab\"/></a>"
      ]
    },
    {
      "cell_type": "code",
      "metadata": {
        "colab": {
          "base_uri": "https://localhost:8080/"
        },
        "id": "ndSshSnZ0kem",
        "outputId": "994f70dc-b5e4-48aa-c3c0-6349a68e311e"
      },
      "source": [
        "#Day 4 randomaization\r\n",
        "import random\r\n",
        "random_integer = random.randint(1,10)\r\n",
        "print(random_integer)"
      ],
      "execution_count": 2,
      "outputs": [
        {
          "output_type": "stream",
          "text": [
            "5\n"
          ],
          "name": "stdout"
        }
      ]
    },
    {
      "cell_type": "code",
      "metadata": {
        "id": "tdWObJDJ2Psu"
      },
      "source": [
        "#my_module.py pi=3.14159246 --> new file\r\n",
        "# import my_module print(my_module.pi) --> exec in old file"
      ],
      "execution_count": null,
      "outputs": []
    },
    {
      "cell_type": "code",
      "metadata": {
        "colab": {
          "base_uri": "https://localhost:8080/"
        },
        "id": "OyTUjMHr2fTW",
        "outputId": "8584d629-78bd-4661-e9b9-b9a0f8a68eb1"
      },
      "source": [
        "#Day 4 randomaization\r\n",
        "import random\r\n",
        "random_float = random.random() * 5\r\n",
        "print(random_float)\r\n"
      ],
      "execution_count": 8,
      "outputs": [
        {
          "output_type": "stream",
          "text": [
            "0.029941286136636047\n"
          ],
          "name": "stdout"
        }
      ]
    },
    {
      "cell_type": "code",
      "metadata": {
        "colab": {
          "base_uri": "https://localhost:8080/"
        },
        "id": "dS_cRRj-4_6G",
        "outputId": "28dd3863-71dc-4a60-be73-96761ccb43b3"
      },
      "source": [
        "import random\r\n",
        "coin = random.randint(0,1)\r\n",
        "if coin == 0 :\r\n",
        "  print(\"tail\")\r\n",
        "else:\r\n",
        "  print(\"Head\")"
      ],
      "execution_count": 15,
      "outputs": [
        {
          "output_type": "stream",
          "text": [
            "Head\n"
          ],
          "name": "stdout"
        }
      ]
    },
    {
      "cell_type": "code",
      "metadata": {
        "colab": {
          "base_uri": "https://localhost:8080/"
        },
        "id": "dnGkoIxI35jP",
        "outputId": "e20d2344-cd4a-458e-8af3-471c1f757569"
      },
      "source": [
        "#list\r\n",
        "\r\n",
        "state_of_india = ['India', 'bangalore', 'Hydrabad', 'Kerala']\r\n",
        "print(state_of_india[0])\r\n",
        "\r\n",
        "state_of_india[1] = \"Karnataka\"\r\n",
        "print(state_of_india)\r\n",
        "\r\n",
        "state_of_india.extend([\"Haryana\", \"Gujarath\"])\r\n",
        "state_of_india.append(\"Uttar Pradesh\")\r\n",
        "state_of_india.insert(1,\"Madhya Pradesh\")\r\n",
        "print(state_of_india)\r\n",
        "\r\n",
        "import random\r\n",
        "ch=['Head', 'tail']\r\n",
        "random_dice = random.choice(ch)\r\n",
        "print(random_dice)"
      ],
      "execution_count": 19,
      "outputs": [
        {
          "output_type": "stream",
          "text": [
            "India\n",
            "['India', 'Karnataka', 'Hydrabad', 'Kerala']\n",
            "['India', 'Madhya Pradesh', 'Karnataka', 'Hydrabad', 'Kerala', 'Haryana', 'Gujarath', 'Uttar Pradesh']\n",
            "Head\n"
          ],
          "name": "stdout"
        }
      ]
    },
    {
      "cell_type": "code",
      "metadata": {
        "colab": {
          "base_uri": "https://localhost:8080/"
        },
        "id": "h05mhvuj-NP1",
        "outputId": "e4acbcd6-0e96-4dc1-96f7-d5e1b8de5a10"
      },
      "source": [
        "string = \" A, B, C, D\"\r\n",
        "string_list = string.split(\",\")\r\n",
        "print(string_list)\r\n",
        "import random\r\n",
        "t=len(string_list)\r\n",
        "print(t)\r\n",
        "random_string = random.randint(0,t-1)\r\n",
        "print(f\" {string_list[random_string]} is going to mall today!\")"
      ],
      "execution_count": 30,
      "outputs": [
        {
          "output_type": "stream",
          "text": [
            "[' A', ' B', ' C', ' D']\n",
            "4\n",
            "  A is going to mall today!\n"
          ],
          "name": "stdout"
        }
      ]
    },
    {
      "cell_type": "code",
      "metadata": {
        "id": "X9qLu27R-NeK"
      },
      "source": [
        ""
      ],
      "execution_count": null,
      "outputs": []
    },
    {
      "cell_type": "code",
      "metadata": {
        "colab": {
          "base_uri": "https://localhost:8080/"
        },
        "id": "QxjHZli55a1e",
        "outputId": "f50592de-4acd-43db-d37a-a97e7fa30002"
      },
      "source": [
        "string = \" A, B, C, D\"\r\n",
        "string_list = string.split(\",\")\r\n",
        "print(string_list)\r\n",
        "import random\r\n",
        "random_string = random.choice(string_list)\r\n",
        "print(f\" {random_string} is going to mall today!\")"
      ],
      "execution_count": 24,
      "outputs": [
        {
          "output_type": "stream",
          "text": [
            "[' A', ' B', ' C', ' D']\n",
            "  B is going to mall today!\n"
          ],
          "name": "stdout"
        }
      ]
    },
    {
      "cell_type": "code",
      "metadata": {
        "colab": {
          "base_uri": "https://localhost:8080/"
        },
        "id": "rHScjuvq_lGL",
        "outputId": "e17862f2-ae85-4157-b1f7-5d5a01e1a41b"
      },
      "source": [
        "fruits = [\"Apple\", \"banana\", \"graps\", \"mango\"]\r\n",
        "veg = [\"carrot\", \"beetroot\", \"beans\"]\r\n",
        "full_list = [fruits, veg]\r\n",
        "print(full_list)\r\n",
        "print(full_list[1][1])"
      ],
      "execution_count": 35,
      "outputs": [
        {
          "output_type": "stream",
          "text": [
            "[['Apple', 'banana', 'graps', 'mango'], ['carrot', 'beetroot', 'beans']]\n",
            "beetroot\n"
          ],
          "name": "stdout"
        }
      ]
    },
    {
      "cell_type": "code",
      "metadata": {
        "colab": {
          "base_uri": "https://localhost:8080/"
        },
        "id": "EXJsQk3EBVe2",
        "outputId": "d6d32057-3eab-4261-f86c-dc60da708010"
      },
      "source": [
        "row1 = [\"😄\", \"😄\", \"😄\", \"😄\"]\r\n",
        "row2 = [ \"✌️\", \"✌️\",  \"✌️\",  \"✌️\"]\r\n",
        "row3 = [\"😞\", \"😞\", \"😞\", \"😞\"]\r\n",
        "map = [row1, row2, row3]\r\n",
        "print(f\"{row1} \\n {row2} \\n {row3}\")\r\n",
        "position = input(\"Where do you want to put the treasure? \")\r\n",
        "horizon= int(position[0])\r\n",
        "vertical = int(position[1])\r\n",
        "#selected_row = map[vertical - 1]\r\n",
        "#selected_row[horizon - 1] = \"X\"\r\n",
        "map[vertical - 1][horizon - 1] = \"🙏\"\r\n",
        "\r\n",
        "print(f\"{row1} \\n {row2} \\n {row3}\")"
      ],
      "execution_count": 51,
      "outputs": [
        {
          "output_type": "stream",
          "text": [
            "['😄', '😄', '😄', '😄'] \n",
            " ['✌️', '✌️', '✌️', '✌️'] \n",
            " ['😞', '😞', '😞', '😞']\n",
            "Where do you want to put the treasure? 20\n",
            "['😄', '😄', '😄', '😄'] \n",
            " ['✌️', '✌️', '✌️', '✌️'] \n",
            " ['😞', '🙏', '😞', '😞']\n"
          ],
          "name": "stdout"
        }
      ]
    },
    {
      "cell_type": "code",
      "metadata": {
        "id": "tZKr4KHuVlGO"
      },
      "source": [
        ""
      ],
      "execution_count": 57,
      "outputs": []
    },
    {
      "cell_type": "code",
      "metadata": {
        "id": "ZGYfjsDOijDo"
      },
      "source": [
        ""
      ],
      "execution_count": null,
      "outputs": []
    },
    {
      "cell_type": "code",
      "metadata": {
        "colab": {
          "base_uri": "https://localhost:8080/"
        },
        "id": "g6e08pu6ZcyG",
        "outputId": "12d8c250-120b-4be7-a645-911b2e43e66a"
      },
      "source": [
        "#rock paper and scissors game\r\n",
        "user_choice = int(input(\"What do you choose? Type 0 for Rock, 1 for Paper or 2 for scissors?   \"))\r\n",
        "computer_choice = random.randint(0,3)\r\n",
        "if user_choice == 0:\r\n",
        "  print(f\"user_choice: ✋ \\n Rock\")\r\n",
        "elif user_choice == 1:\r\n",
        "  print(f\"user_choice: 👊 \\n Paper\")\r\n",
        "else:\r\n",
        "  print(f\"user_choice: ✌️ \\n Scissors\")\r\n",
        "\r\n",
        "\r\n",
        "if computer_choice == 0:\r\n",
        "  print(f\"Computer Choice: ✋ \\n Rock\")\r\n",
        "elif computer_choice == 1:\r\n",
        "  print(f\"Computer Choice: 👊 \\n Paper\")\r\n",
        "else:\r\n",
        "  print(f\"Computer Choice: ✌️ \\n Scissors\")\r\n",
        "\r\n",
        "if user_choice == 0 and computer_choice == 2:\r\n",
        "  print(\"You win!\")\r\n",
        "elif computer_choice > user_choice:\r\n",
        "  print(\"You lose!\")\r\n",
        "elif computer_choice == user_choice:\r\n",
        "  print(\"Match draw!\")\r\n",
        "else:\r\n",
        "  print(\"invalid choice\")"
      ],
      "execution_count": 57,
      "outputs": [
        {
          "output_type": "stream",
          "text": [
            "What do you choose? Type 0 for Rock, 1 for Paper or 2 for scissors?   0\n",
            "user_choice: ✋ \n",
            " Rock\n",
            "Computer Choice: ✌️ \n",
            " Scissors\n",
            "You win!\n"
          ],
          "name": "stdout"
        }
      ]
    }
  ]
}