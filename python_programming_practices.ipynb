{
  "nbformat": 4,
  "nbformat_minor": 0,
  "metadata": {
    "colab": {
      "name": "python_programming_practices.ipynb",
      "provenance": [],
      "authorship_tag": "ABX9TyNVQObO/Tz+/PmP3rvNjpXb",
      "include_colab_link": true
    },
    "kernelspec": {
      "name": "python3",
      "display_name": "Python 3"
    }
  },
  "cells": [
    {
      "cell_type": "markdown",
      "metadata": {
        "id": "view-in-github",
        "colab_type": "text"
      },
      "source": [
        "<a href=\"https://colab.research.google.com/github/kirubamay20/Python/blob/master/python_programming_practices.ipynb\" target=\"_parent\"><img src=\"https://colab.research.google.com/assets/colab-badge.svg\" alt=\"Open In Colab\"/></a>"
      ]
    },
    {
      "cell_type": "code",
      "metadata": {
        "colab": {
          "base_uri": "https://localhost:8080/"
        },
        "id": "RbNadMKSPhty",
        "outputId": "547ccebe-6000-4409-da32-84950032c07e"
      },
      "source": [
        "print(\"Hello World!\")"
      ],
      "execution_count": 3,
      "outputs": [
        {
          "output_type": "stream",
          "text": [
            "Hello World!\n"
          ],
          "name": "stdout"
        }
      ]
    },
    {
      "cell_type": "markdown",
      "metadata": {
        "id": "N8FpKXO6QBLN"
      },
      "source": [
        "##Day1\r\n"
      ]
    },
    {
      "cell_type": "code",
      "metadata": {
        "colab": {
          "base_uri": "https://localhost:8080/"
        },
        "id": "dUQmNu8EQGyB",
        "outputId": "c0a42d40-a810-45a8-a9fc-6f5806b1a990"
      },
      "source": [
        "print(\"String Manupulation\")\r\n",
        "print('string concatenation is done with the \"+\" sign.')\r\n",
        "print('e.g. print(\"Hello\" + \"World\")')\r\n",
        "print(\"New lines can be created with a backslash and n.\")"
      ],
      "execution_count": 6,
      "outputs": [
        {
          "output_type": "stream",
          "text": [
            "String Manupulation\n",
            "string concatenation is done with the \"+\" sign.\n",
            "e.g. print(\"Hello\" + \"World\")\n",
            "New lines can be created with a backslash and n.\n"
          ],
          "name": "stdout"
        }
      ]
    },
    {
      "cell_type": "code",
      "metadata": {
        "colab": {
          "base_uri": "https://localhost:8080/"
        },
        "id": "izkNbFy5RIpA",
        "outputId": "03a2596b-1916-4f67-ba41-0bca8c924f88"
      },
      "source": [
        "print(\"Hello\" + \" \" + \"Angela\")\r\n",
        "print(\"What is your name? \")\r\n",
        "input(\"what is your name? \")\r\n",
        "print(\"Hello \" + input(\"what is your name? \") + \"!\")\r\n",
        "print(len(input(\"what is your name? \")))"
      ],
      "execution_count": 12,
      "outputs": [
        {
          "output_type": "stream",
          "text": [
            "Hello Angela\n",
            "What is your name?\n",
            "what is your name?kiru\n",
            "what is your name?kiru\n",
            "Hello kiru!\n",
            "what is your name?kiru\n",
            "4\n"
          ],
          "name": "stdout"
        }
      ]
    },
    {
      "cell_type": "code",
      "metadata": {
        "colab": {
          "base_uri": "https://localhost:8080/"
        },
        "id": "tMT9-l_lUVyv",
        "outputId": "34eca12c-32f3-4fe9-9153-b954ae886e05"
      },
      "source": [
        "#variable\r\n",
        "name= input(\"What is your name? \")\r\n",
        "print(name)\r\n",
        "num= len(name)\r\n",
        "print(num)\r\n",
        "print(\"name = \" + name)\r\n"
      ],
      "execution_count": 23,
      "outputs": [
        {
          "output_type": "stream",
          "text": [
            "What is your name? kiruba\n",
            "kiruba\n",
            "6\n",
            "name = kiruba\n"
          ],
          "name": "stdout"
        }
      ]
    },
    {
      "cell_type": "code",
      "metadata": {
        "colab": {
          "base_uri": "https://localhost:8080/"
        },
        "id": "19fdfJHjV8a_",
        "outputId": "1e6a3da3-95e3-4903-affc-8c10e7acc3e2"
      },
      "source": [
        "#swap\r\n",
        "a= input(\"a:\")\r\n",
        "b= input(\"b:\")\r\n",
        "temp= a\r\n",
        "a=b\r\n",
        "b=temp\r\n",
        "print(\"a = \" + a)\r\n",
        "print(\"b = \" + b)"
      ],
      "execution_count": 26,
      "outputs": [
        {
          "output_type": "stream",
          "text": [
            "a:20\n",
            "b:10\n",
            "a = 10\n",
            "b = 20\n"
          ],
          "name": "stdout"
        }
      ]
    },
    {
      "cell_type": "code",
      "metadata": {
        "colab": {
          "base_uri": "https://localhost:8080/"
        },
        "id": "PhuORr1UXvIj",
        "outputId": "632bf1a5-d69b-4e17-f63d-e5dc05d978b6"
      },
      "source": [
        "print(\"Welcome!\")\r\n",
        "city = input(\"Where are you from? \\n\")\r\n",
        "#print(city)\r\n",
        "friend_name = input(\"what is your friend name? \\n\")\r\n",
        "#print(friend_name)\r\n",
        "print(\"my city with my friend name concat: \\n\"  + city + \"\" + friend_name )"
      ],
      "execution_count": 39,
      "outputs": [
        {
          "output_type": "stream",
          "text": [
            "Welcome!\n",
            "Where are you from? \n",
            "salem\n",
            "what is your friend name? \n",
            "vino\n",
            "my city with my friend name concat: \n",
            "salemvino\n"
          ],
          "name": "stdout"
        }
      ]
    },
    {
      "cell_type": "code",
      "metadata": {
        "id": "ignYVA-DdWoz"
      },
      "source": [
        ""
      ],
      "execution_count": 40,
      "outputs": []
    },
    {
      "cell_type": "markdown",
      "metadata": {
        "id": "uctQaaMfeURj"
      },
      "source": [
        "##Day2"
      ]
    },
    {
      "cell_type": "code",
      "metadata": {
        "id": "l4lGwJrodd-y"
      },
      "source": [
        "# python primitive Data Types\r\n",
        "#string #float #Boolean"
      ],
      "execution_count": null,
      "outputs": []
    },
    {
      "cell_type": "code",
      "metadata": {
        "colab": {
          "base_uri": "https://localhost:8080/"
        },
        "id": "2rt_wi4ueYg5",
        "outputId": "f3ea53f8-3664-49c0-bc75-47e9a3fde486"
      },
      "source": [
        "print(\"Hello\"[4])\r\n",
        "print(\"123\"+\"456\") \r\n",
        "print(123 + 345)\r\n",
        "print(123_456_789)\r\n",
        "\r\n",
        "3.14\r\n",
        "\r\n",
        "True\r\n",
        "False"
      ],
      "execution_count": 45,
      "outputs": [
        {
          "output_type": "stream",
          "text": [
            "o\n",
            "123456\n",
            "468\n",
            "123456789\n"
          ],
          "name": "stdout"
        }
      ]
    },
    {
      "cell_type": "code",
      "metadata": {
        "id": "dC658AFCfrnZ"
      },
      "source": [
        "##type error, type checking, type conversion"
      ],
      "execution_count": null,
      "outputs": []
    },
    {
      "cell_type": "code",
      "metadata": {
        "colab": {
          "base_uri": "https://localhost:8080/"
        },
        "id": "KtqvG54Zg8Dl",
        "outputId": "9562102f-8054-4ac2-f45f-3db943a730aa"
      },
      "source": [
        "num_char = len(input(\"what is your name! \"))\r\n",
        "print(type(num_char))\r\n",
        "#print(\"your name has \" + num_char + \" characters.\")\r\n",
        "\r\n",
        "new_num_char = str(num_char)\r\n",
        "print(\"your name has \" + new_num_char + \" characters.\")"
      ],
      "execution_count": 50,
      "outputs": [
        {
          "output_type": "stream",
          "text": [
            "what is your name! vinodhini \n",
            "<class 'int'>\n",
            "your name has 10 characters.\n"
          ],
          "name": "stdout"
        }
      ]
    },
    {
      "cell_type": "code",
      "metadata": {
        "colab": {
          "base_uri": "https://localhost:8080/"
        },
        "id": "fLqfkp60iWcv",
        "outputId": "4c707c44-d4c9-43c0-d3a1-6bdd66bb5f3c"
      },
      "source": [
        "a=123\r\n",
        "print(type(a))\r\n",
        "b=\"123\"\r\n",
        "print(type(b))\r\n",
        "c=3.14\r\n",
        "print(type(c))\r\n",
        "d=True\r\n",
        "print(type(d))"
      ],
      "execution_count": 52,
      "outputs": [
        {
          "output_type": "stream",
          "text": [
            "<class 'int'>\n",
            "<class 'str'>\n",
            "<class 'float'>\n",
            "<class 'bool'>\n"
          ],
          "name": "stdout"
        }
      ]
    },
    {
      "cell_type": "code",
      "metadata": {
        "colab": {
          "base_uri": "https://localhost:8080/"
        },
        "id": "PbwtfT58insa",
        "outputId": "ed126f8f-c3da-4019-a35a-fe37c5c8c04c"
      },
      "source": [
        "a= float(123)\r\n",
        "print(type(a))\r\n",
        "\r\n",
        "print(str(70) + str(100))"
      ],
      "execution_count": 53,
      "outputs": [
        {
          "output_type": "stream",
          "text": [
            "<class 'float'>\n",
            "70100\n"
          ],
          "name": "stdout"
        }
      ]
    },
    {
      "cell_type": "code",
      "metadata": {
        "colab": {
          "base_uri": "https://localhost:8080/"
        },
        "id": "iKsRTITAmqz2",
        "outputId": "ca6b17bc-aaf4-4f03-f546-618a47a0443a"
      },
      "source": [
        "num= input(\"Enter two digit num: \")\r\n",
        "print(num)\r\n",
        "print(type(num))\r\n",
        "a=num[0] \r\n",
        "b=num[1]\r\n",
        "print(a, b)\r\n",
        "new_a=int(a)\r\n",
        "new_b=int(b)\r\n",
        "#print(type(new_num))\r\n",
        "print(new_a + new_b)"
      ],
      "execution_count": 67,
      "outputs": [
        {
          "output_type": "stream",
          "text": [
            "Enter two digit num: 12\n",
            "12\n",
            "<class 'str'>\n",
            "1 2\n",
            "3\n"
          ],
          "name": "stdout"
        }
      ]
    },
    {
      "cell_type": "code",
      "metadata": {
        "colab": {
          "base_uri": "https://localhost:8080/"
        },
        "id": "LFi2_roTpPzX",
        "outputId": "a240a560-084f-4d4d-b5dc-bd805185f7e7"
      },
      "source": [
        "##operators priority  () ** * / + -\r\n",
        "print(1 + 3)\r\n",
        "print(1 - 3)\r\n",
        "print(1 * 3)\r\n",
        "print(1 / 3)\r\n",
        "print(1 ** 3)"
      ],
      "execution_count": 71,
      "outputs": [
        {
          "output_type": "stream",
          "text": [
            "4\n",
            "-2\n",
            "3\n",
            "0.3333333333333333\n",
            "1\n"
          ],
          "name": "stdout"
        }
      ]
    },
    {
      "cell_type": "code",
      "metadata": {
        "colab": {
          "base_uri": "https://localhost:8080/"
        },
        "id": "_WnjX8cgp9CU",
        "outputId": "6b141bdc-a999-42bc-a811-fb8f30f3f19c"
      },
      "source": [
        "print(3 * 3 + 3 / 3 - 3)"
      ],
      "execution_count": 72,
      "outputs": [
        {
          "output_type": "stream",
          "text": [
            "7.0\n"
          ],
          "name": "stdout"
        }
      ]
    },
    {
      "cell_type": "code",
      "metadata": {
        "colab": {
          "base_uri": "https://localhost:8080/"
        },
        "id": "GB_BW2YdpzBc",
        "outputId": "df3bf311-7d36-4490-aea4-36822c58744c"
      },
      "source": [
        "##BMI Calculation\r\n",
        "height = input(\"Enter your height in meter: \\n\")\r\n",
        "weight = input(\"Enter your weight in Kgs: \\n\")\r\n",
        "\r\n",
        "\r\n",
        "\r\n",
        "BMI= int(weight) /  float(height) ** 2 \r\n",
        "\r\n",
        "print(BMI)\r\n",
        "\r\n",
        "bmi_i=int(BMI)\r\n",
        "print(bmi_i)"
      ],
      "execution_count": 87,
      "outputs": [
        {
          "output_type": "stream",
          "text": [
            "Enter your height in meter: \n",
            "1.8\n",
            "Enter your weight in Kgs: \n",
            "40\n",
            "12.345679012345679\n",
            "12\n"
          ],
          "name": "stdout"
        }
      ]
    },
    {
      "cell_type": "code",
      "metadata": {
        "colab": {
          "base_uri": "https://localhost:8080/"
        },
        "id": "Aw3givgC5rvP",
        "outputId": "625f8cee-3f21-4363-f740-a991027cf933"
      },
      "source": [
        "#basic math tricks\r\n",
        "print(round(2.666666, 2))\r\n",
        "answer= 8/4\r\n",
        "answer /=2\r\n",
        "answer= int(answer)\r\n",
        "print(answer)\r\n",
        "\r\n",
        "score = 1\r\n",
        "score += 1\r\n",
        "print(score)"
      ],
      "execution_count": 96,
      "outputs": [
        {
          "output_type": "stream",
          "text": [
            "2.67\n",
            "1\n",
            "2\n"
          ],
          "name": "stdout"
        }
      ]
    },
    {
      "cell_type": "code",
      "metadata": {
        "colab": {
          "base_uri": "https://localhost:8080/"
        },
        "id": "Rd_YfzHIEiGH",
        "outputId": "67d87dae-dc76-4b4f-d0e8-1fa612152f03"
      },
      "source": [
        "#f-string\r\n",
        "score = 0\r\n",
        "BMI = 10.11\r\n",
        "Posibility = True\r\n",
        "print(f\"Your score is {score}, your BMI is {BMI}, Possibilty of obesity {Posibility}\")"
      ],
      "execution_count": 98,
      "outputs": [
        {
          "output_type": "stream",
          "text": [
            "Your score is 0, your BMI is 10.11, Possibilty of obesity True\n"
          ],
          "name": "stdout"
        }
      ]
    },
    {
      "cell_type": "code",
      "metadata": {
        "colab": {
          "base_uri": "https://localhost:8080/"
        },
        "id": "rxE4IKWnFC-g",
        "outputId": "7a3fff75-357a-4fdb-a771-1a8c8ec1c62b"
      },
      "source": [
        "##Your life in weeks pjt 365 days 52 weeks 12 months, if we live untill 90 years\r\n",
        "\r\n",
        "age = input(\"What is your current age? \")\r\n",
        "\r\n",
        "years= 90 -int(age)\r\n",
        "days = years * 365\r\n",
        "weeks = years * 52\r\n",
        "months = years * 12\r\n",
        "\r\n",
        "\r\n",
        "print(f\"you have {days} days, {weeks} weeks and {months} months left.\")"
      ],
      "execution_count": 103,
      "outputs": [
        {
          "output_type": "stream",
          "text": [
            "What is your current age? 56\n",
            "you have 12410 days, 1768 weeks and 408 months left.\n"
          ],
          "name": "stdout"
        }
      ]
    },
    {
      "cell_type": "code",
      "metadata": {
        "colab": {
          "base_uri": "https://localhost:8080/"
        },
        "id": "JTUwTPJBJoI3",
        "outputId": "5b848538-d9e1-4951-935f-20a2d45ed14e"
      },
      "source": [
        "print(6 + 4 / 2 - (1 * 2))\r\n",
        "a = int(\"5\") / int(2.7)\r\n",
        "print(type(a))"
      ],
      "execution_count": 105,
      "outputs": [
        {
          "output_type": "stream",
          "text": [
            "6.0\n",
            "<class 'float'>\n"
          ],
          "name": "stdout"
        }
      ]
    },
    {
      "cell_type": "code",
      "metadata": {
        "colab": {
          "base_uri": "https://localhost:8080/"
        },
        "id": "Np7ksuVHKqWX",
        "outputId": "40ef2f41-7c4c-4111-9be5-a593305106fd"
      },
      "source": [
        "#Day2 project\r\n",
        "print(\"Welcome to the calc!\")\r\n",
        "total_amount = input(\"enter the total bill in $: \")\r\n",
        "print(total_amount)\r\n",
        "tips = input(\" tips planned to give ? 10, 12 or 15? \")\r\n",
        "print(tips)\r\n",
        "no_of_people = input(\" number of ppl in team ? \")\r\n",
        "print(no_of_people)\r\n",
        "\r\n",
        "calc =  int(total_amount) + int(tips) \r\n",
        "share = calc / int(no_of_people)\r\n",
        "share = int(share)\r\n",
        "print(f\"Each person should pay: {share}\" )"
      ],
      "execution_count": 108,
      "outputs": [
        {
          "output_type": "stream",
          "text": [
            "Welcome to the calc!\n",
            "enter the total bill in $: 500\n",
            "500\n",
            " tips planned to give ? 10, 12 or 15? 10\n",
            "10\n",
            " number of ppl in team ? 5\n",
            "5\n",
            "Each person should pay: 102\n"
          ],
          "name": "stdout"
        }
      ]
    },
    {
      "cell_type": "code",
      "metadata": {
        "colab": {
          "base_uri": "https://localhost:8080/"
        },
        "id": "1YvrWPyvM5Ad",
        "outputId": "5e3dae96-caee-434c-b190-d3733341fc6a"
      },
      "source": [
        "#Day2 project\r\n",
        "print(\"Welcome to the calc!\")\r\n",
        "total_amount = int(input(\"enter the total bill in $: \"))\r\n",
        "print(total_amount)\r\n",
        "tips = int(input(\" tips planned to give ? 10, 12 or 15? \"))\r\n",
        "print(tips)\r\n",
        "no_of_people = int(input(\" number of ppl in team ? \"))\r\n",
        "print(no_of_people)\r\n",
        "\r\n",
        "calc =  (total_amount + tips) / no_of_people\r\n",
        "\r\n",
        "share = int(calc)\r\n",
        "print(f\"Each person should pay: ${share}\" )"
      ],
      "execution_count": 112,
      "outputs": [
        {
          "output_type": "stream",
          "text": [
            "Welcome to the calc!\n",
            "enter the total bill in $: 500\n",
            "500\n",
            " tips planned to give ? 10, 12 or 15? 10\n",
            "10\n",
            " number of ppl in team ? 5\n",
            "5\n",
            "Each person should pay: $102\n"
          ],
          "name": "stdout"
        }
      ]
    },
    {
      "cell_type": "code",
      "metadata": {
        "colab": {
          "base_uri": "https://localhost:8080/"
        },
        "id": "NEdn4Rs3NzFW",
        "outputId": "39ec74c1-04f8-4fb9-d3cc-7bad13cab983"
      },
      "source": [
        "1234567890123456 / (2 ** 58)\r\n",
        "123456 / (2 ** 58)"
      ],
      "execution_count": 116,
      "outputs": [
        {
          "output_type": "execute_result",
          "data": {
            "text/plain": [
              "4.283240429003854e-13"
            ]
          },
          "metadata": {
            "tags": []
          },
          "execution_count": 116
        }
      ]
    },
    {
      "cell_type": "code",
      "metadata": {
        "colab": {
          "base_uri": "https://localhost:8080/"
        },
        "id": "D8sdIY4tODnB",
        "outputId": "da392148-37a9-4422-bef0-39b9b945c9bb"
      },
      "source": [
        "a=4.283\r\n",
        "print(a)\r\n",
        "print(\"%.2f\" % a)\r\n",
        "print(\"%.2f\" % round(a, 2))\r\n",
        "print(\"{:.2f}\".format(a))\r\n",
        "print(\"{:.2f}\".format(round(a, 2)))\r\n",
        "print(\"{:.2f}\".format(round(a, 2)))\r\n",
        "print(\"{:.15f}\".format(round(a, 2)))"
      ],
      "execution_count": 118,
      "outputs": [
        {
          "output_type": "stream",
          "text": [
            "4.283\n",
            "4.28\n",
            "4.28\n",
            "4.28\n",
            "4.28\n",
            "4.28\n",
            "4.280000000000000\n"
          ],
          "name": "stdout"
        }
      ]
    }
  ]
}