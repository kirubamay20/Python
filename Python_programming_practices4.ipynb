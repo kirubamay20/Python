{
  "nbformat": 4,
  "nbformat_minor": 0,
  "metadata": {
    "colab": {
      "name": "Python_programming_practices4.ipynb",
      "provenance": [],
      "collapsed_sections": [],
      "authorship_tag": "ABX9TyPGYjVHLcbLeTnP/jClBpWw",
      "include_colab_link": true
    },
    "kernelspec": {
      "name": "python3",
      "display_name": "Python 3"
    }
  },
  "cells": [
    {
      "cell_type": "markdown",
      "metadata": {
        "id": "view-in-github",
        "colab_type": "text"
      },
      "source": [
        "<a href=\"https://colab.research.google.com/github/kirubamay20/Python/blob/master/Python_programming_practices4.ipynb\" target=\"_parent\"><img src=\"https://colab.research.google.com/assets/colab-badge.svg\" alt=\"Open In Colab\"/></a>"
      ]
    },
    {
      "cell_type": "code",
      "metadata": {
        "colab": {
          "base_uri": "https://localhost:8080/"
        },
        "id": "FFXBA4YTi3Cv",
        "outputId": "99515e09-61b0-47dd-cdd1-13598b297ee5"
      },
      "source": [
        "#Day 5 loops\r\n",
        "fruits = [\"apple\", \"banana\", \"grape\"]\r\n",
        "for item in fruits:\r\n",
        "\r\n",
        "  #print(item)\r\n",
        "  print(item + \" fruit\")\r\n",
        "\r\n",
        "print(\"Thank You\")"
      ],
      "execution_count": 3,
      "outputs": [
        {
          "output_type": "stream",
          "text": [
            "apple fruit\n",
            "banana fruit\n",
            "grape fruit\n",
            "Thank You\n"
          ],
          "name": "stdout"
        }
      ]
    },
    {
      "cell_type": "code",
      "metadata": {
        "id": "y1ydX8guOlPt"
      },
      "source": [
        ""
      ],
      "execution_count": null,
      "outputs": []
    },
    {
      "cell_type": "code",
      "metadata": {
        "colab": {
          "base_uri": "https://localhost:8080/"
        },
        "id": "mqLz3H6p4kFa",
        "outputId": "7646102a-0407-4d44-cde2-8bea176ba42d"
      },
      "source": [
        "student_height = [153, 160, 155, 170]\r\n",
        "type(student_height)\r\n",
        "total_stu = 0\r\n",
        "for item in student_height :\r\n",
        "  total_stu += item\r\n",
        "print(total_stu)\r\n",
        "\r\n",
        "total= 0\r\n",
        "for item in student_height :\r\n",
        "  total += 1\r\n",
        "print(total)\r\n",
        "\r\n",
        "avg = round( total_stu / total )\r\n",
        "print(avg)"
      ],
      "execution_count": 23,
      "outputs": [
        {
          "output_type": "stream",
          "text": [
            "638\n",
            "4\n",
            "160\n"
          ],
          "name": "stdout"
        }
      ]
    },
    {
      "cell_type": "code",
      "metadata": {
        "colab": {
          "base_uri": "https://localhost:8080/"
        },
        "id": "Wp9Hjn8W7Gos",
        "outputId": "c368c076-1638-4622-af3f-958d36bd0211"
      },
      "source": [
        "high_score = 0\r\n",
        "students_score=[40, 80, 70, 60, 55]\r\n",
        "for score in students_score:\r\n",
        "  if score > high_score:\r\n",
        "    high_score = score\r\n",
        "print(f\"The high score: {high_score}\")"
      ],
      "execution_count": 19,
      "outputs": [
        {
          "output_type": "stream",
          "text": [
            "The high score: 80\n"
          ],
          "name": "stdout"
        }
      ]
    },
    {
      "cell_type": "code",
      "metadata": {
        "colab": {
          "base_uri": "https://localhost:8080/"
        },
        "id": "UMAp5yiLLzR6",
        "outputId": "118d2e06-cef5-421c-85fb-0c752a7ecbcd"
      },
      "source": [
        "# add 1-100 values using range with for loop\r\n",
        "C = 0\r\n",
        "for i in range(1, 101) :\r\n",
        "  C += i\r\n",
        "print(f\"Total {C}\")"
      ],
      "execution_count": 28,
      "outputs": [
        {
          "output_type": "stream",
          "text": [
            "Total 5050\n"
          ],
          "name": "stdout"
        }
      ]
    },
    {
      "cell_type": "code",
      "metadata": {
        "colab": {
          "base_uri": "https://localhost:8080/"
        },
        "id": "Ube34Tb_QKFG",
        "outputId": "a8aba1d9-bcb9-4661-8b80-f822e96495f2"
      },
      "source": [
        "##adding even numbers 1-100\r\n",
        "C = 0\r\n",
        "for i in range(2, 101, 2):\r\n",
        "  #print(i)\r\n",
        "  C += i\r\n",
        "print(f\"even sum {C}\")"
      ],
      "execution_count": 34,
      "outputs": [
        {
          "output_type": "stream",
          "text": [
            "even sum 2550\n"
          ],
          "name": "stdout"
        }
      ]
    },
    {
      "cell_type": "code",
      "metadata": {
        "colab": {
          "base_uri": "https://localhost:8080/"
        },
        "id": "vieQf_Qs5y5C",
        "outputId": "f6f0fb18-e081-4bdc-8dea-6a86d46b4c11"
      },
      "source": [
        "##adding even numbers 1-100\r\n",
        "C = 0\r\n",
        "for i in range(1, 101):\r\n",
        "  if i % 2 == 0:\r\n",
        "\r\n",
        "  #print(i)\r\n",
        "    C += i\r\n",
        "print(f\"even sum {C}\")\r\n"
      ],
      "execution_count": 35,
      "outputs": [
        {
          "output_type": "stream",
          "text": [
            "even sum 2550\n"
          ],
          "name": "stdout"
        }
      ]
    },
    {
      "cell_type": "code",
      "metadata": {
        "colab": {
          "base_uri": "https://localhost:8080/"
        },
        "id": "QsisKEWp4XRH",
        "outputId": "6dea9e20-bbac-4262-85db-a91f0e803d2b"
      },
      "source": [
        "#fizzbizz problem\r\n",
        "for i in range(1, 101):\r\n",
        "  if i % 3 == 0 and i % 5 == 0:\r\n",
        "    print(\"FizzBizz\")\r\n",
        "  elif i % 3 == 0:\r\n",
        "    print(\"Fizz\")\r\n",
        "  elif i % 5 == 0:\r\n",
        "    print(\"Bizz\")\r\n",
        "  \r\n",
        "  else:\r\n",
        "    print(i)"
      ],
      "execution_count": 40,
      "outputs": [
        {
          "output_type": "stream",
          "text": [
            "1\n",
            "2\n",
            "Fizz\n",
            "4\n",
            "Bizz\n",
            "Fizz\n",
            "7\n",
            "8\n",
            "Fizz\n",
            "Bizz\n",
            "11\n",
            "Fizz\n",
            "13\n",
            "14\n",
            "FizzBizz\n",
            "16\n",
            "17\n",
            "Fizz\n",
            "19\n",
            "Bizz\n",
            "Fizz\n",
            "22\n",
            "23\n",
            "Fizz\n",
            "Bizz\n",
            "26\n",
            "Fizz\n",
            "28\n",
            "29\n",
            "FizzBizz\n",
            "31\n",
            "32\n",
            "Fizz\n",
            "34\n",
            "Bizz\n",
            "Fizz\n",
            "37\n",
            "38\n",
            "Fizz\n",
            "Bizz\n",
            "41\n",
            "Fizz\n",
            "43\n",
            "44\n",
            "FizzBizz\n",
            "46\n",
            "47\n",
            "Fizz\n",
            "49\n",
            "Bizz\n",
            "Fizz\n",
            "52\n",
            "53\n",
            "Fizz\n",
            "Bizz\n",
            "56\n",
            "Fizz\n",
            "58\n",
            "59\n",
            "FizzBizz\n",
            "61\n",
            "62\n",
            "Fizz\n",
            "64\n",
            "Bizz\n",
            "Fizz\n",
            "67\n",
            "68\n",
            "Fizz\n",
            "Bizz\n",
            "71\n",
            "Fizz\n",
            "73\n",
            "74\n",
            "FizzBizz\n",
            "76\n",
            "77\n",
            "Fizz\n",
            "79\n",
            "Bizz\n",
            "Fizz\n",
            "82\n",
            "83\n",
            "Fizz\n",
            "Bizz\n",
            "86\n",
            "Fizz\n",
            "88\n",
            "89\n",
            "FizzBizz\n",
            "91\n",
            "92\n",
            "Fizz\n",
            "94\n",
            "Bizz\n",
            "Fizz\n",
            "97\n",
            "98\n",
            "Fizz\n",
            "Bizz\n"
          ],
          "name": "stdout"
        }
      ]
    },
    {
      "cell_type": "code",
      "metadata": {
        "colab": {
          "base_uri": "https://localhost:8080/"
        },
        "id": "jFuVROYJSKXP",
        "outputId": "09eb4f4c-57ff-4b9c-cbbb-82f97a543a3b"
      },
      "source": [
        "## random pwd generator\r\n",
        "\r\n",
        "print(\" Welcome to the random python generator!\" )\r\n",
        "\r\n",
        "#letters =  input(\"How many letters would you like in your password? \")\r\n",
        "#symbols =  input(\"How many symbols would you like in your password? \")\r\n",
        "#number =  input(\"How many number would you like in your password? \")\r\n",
        "\r\n",
        "import string\r\n",
        "L1 = string.ascii_lowercase[:26]\r\n",
        "L2 = string.ascii_uppercase[:26]\r\n",
        "\r\n",
        "print(L1, L2)\r\n",
        "\r\n",
        "def split(word):\r\n",
        "  return [char for char in word]\r\n",
        "\r\n",
        "L1=split(L1)\r\n",
        "L2=split(L2)\r\n",
        "print(L1,L2)\r\n",
        "L = L1, L2\r\n",
        "print(f\"Here is your Password: { L }\" )\r\n",
        "\r\n",
        "for i in range(1, 10):\r\n",
        "  n = i\r\n",
        "  print(f\"{n}\")\r\n"
      ],
      "execution_count": 50,
      "outputs": [
        {
          "output_type": "stream",
          "text": [
            " Welcome to the random python generator!\n",
            "abcdefghijklmnopqrstuvwxyz ABCDEFGHIJKLMNOPQRSTUVWXYZ\n",
            "['a', 'b', 'c', 'd', 'e', 'f', 'g', 'h', 'i', 'j', 'k', 'l', 'm', 'n', 'o', 'p', 'q', 'r', 's', 't', 'u', 'v', 'w', 'x', 'y', 'z'] ['A', 'B', 'C', 'D', 'E', 'F', 'G', 'H', 'I', 'J', 'K', 'L', 'M', 'N', 'O', 'P', 'Q', 'R', 'S', 'T', 'U', 'V', 'W', 'X', 'Y', 'Z']\n",
            "Here is your Password: (['a', 'b', 'c', 'd', 'e', 'f', 'g', 'h', 'i', 'j', 'k', 'l', 'm', 'n', 'o', 'p', 'q', 'r', 's', 't', 'u', 'v', 'w', 'x', 'y', 'z'], ['A', 'B', 'C', 'D', 'E', 'F', 'G', 'H', 'I', 'J', 'K', 'L', 'M', 'N', 'O', 'P', 'Q', 'R', 'S', 'T', 'U', 'V', 'W', 'X', 'Y', 'Z'])\n",
            "1\n",
            "2\n",
            "3\n",
            "4\n",
            "5\n",
            "6\n",
            "7\n",
            "8\n",
            "9\n"
          ],
          "name": "stdout"
        }
      ]
    },
    {
      "cell_type": "code",
      "metadata": {
        "id": "cwh_euoTXin9"
      },
      "source": [
        "\r\n"
      ],
      "execution_count": 61,
      "outputs": []
    },
    {
      "cell_type": "code",
      "metadata": {
        "id": "qELWvoumcIVo"
      },
      "source": [
        ""
      ],
      "execution_count": 61,
      "outputs": []
    }
  ]
}