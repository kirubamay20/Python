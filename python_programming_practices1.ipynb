{
  "nbformat": 4,
  "nbformat_minor": 0,
  "metadata": {
    "colab": {
      "name": "python_programming_practices1.ipynb",
      "provenance": [],
      "collapsed_sections": [],
      "authorship_tag": "ABX9TyPK0ZLOK6IgH3VsC/PIDTxl",
      "include_colab_link": true
    },
    "kernelspec": {
      "name": "python3",
      "display_name": "Python 3"
    }
  },
  "cells": [
    {
      "cell_type": "markdown",
      "metadata": {
        "id": "view-in-github",
        "colab_type": "text"
      },
      "source": [
        "<a href=\"https://colab.research.google.com/github/kirubamay20/Python/blob/master/python_programming_practices1.ipynb\" target=\"_parent\"><img src=\"https://colab.research.google.com/assets/colab-badge.svg\" alt=\"Open In Colab\"/></a>"
      ]
    },
    {
      "cell_type": "code",
      "metadata": {
        "colab": {
          "base_uri": "https://localhost:8080/"
        },
        "id": "5NAs4EUQJsbK",
        "outputId": "1e91baf8-2293-424e-f9a5-7efb0f20f8cc"
      },
      "source": [
        "#Day3\r\n",
        "#conditional statements, logical operators, code blocks and scope >, <, >=, <=, ==, !=\r\n",
        "\r\n",
        "print(\"Welcome to condition statement example!\")\r\n",
        "height = int(input(\"What is your height in cm?\"))\r\n",
        "\r\n",
        "if height == 120:\r\n",
        "  print(\"you can do\")\r\n",
        "else:\r\n",
        "  print(\"Sorry, You can't!\")"
      ],
      "execution_count": 4,
      "outputs": [
        {
          "output_type": "stream",
          "text": [
            "Welcome to condition statement example!\n",
            "What is your height in cm?120\n",
            "you can do\n"
          ],
          "name": "stdout"
        }
      ]
    },
    {
      "cell_type": "code",
      "metadata": {
        "colab": {
          "base_uri": "https://localhost:8080/"
        },
        "id": "syDTdwX5OPCu",
        "outputId": "89a8e694-6ea4-43c9-ef18-ccffbc17d182"
      },
      "source": [
        "#odd or even if condition\r\n",
        "number = int(input(\"enter the number to check: \"))\r\n",
        "if number % 2 == 0:\r\n",
        "  print(\"even\")\r\n",
        "else:\r\n",
        "  print(\"odd\")"
      ],
      "execution_count": 5,
      "outputs": [
        {
          "output_type": "stream",
          "text": [
            "enter the number to check: 10\n",
            "even\n"
          ],
          "name": "stdout"
        }
      ]
    },
    {
      "cell_type": "code",
      "metadata": {
        "colab": {
          "base_uri": "https://localhost:8080/"
        },
        "id": "Yz2-aArWRGrt",
        "outputId": "82ed2b62-c6ed-44d1-dafd-e672985b7a45"
      },
      "source": [
        "#nested if condition\r\n",
        "number = int(input(\"enter the number: \"))\r\n",
        "if number > 0:\r\n",
        "  if number <100:\r\n",
        "    print(\"entered number ranged from 1 and 99\")\r\n",
        "  else:\r\n",
        "    print(\"Entered number 0 or greater than 99\")\r\n",
        "else:\r\n",
        "  print(\"Unknown\")"
      ],
      "execution_count": 8,
      "outputs": [
        {
          "output_type": "stream",
          "text": [
            "enter the number: -1\n",
            "Unknown\n"
          ],
          "name": "stdout"
        }
      ]
    },
    {
      "cell_type": "code",
      "metadata": {
        "colab": {
          "base_uri": "https://localhost:8080/"
        },
        "id": "PBp7Ci1pSLad",
        "outputId": "8a3b1494-aa9c-4c7e-d7eb-d211d091ee9e"
      },
      "source": [
        "#elif statement\r\n",
        "number = int(input(\"enter the number: \"))\r\n",
        "if number > 0 :\r\n",
        "  print(\"greater than 0\")\r\n",
        "elif number <100:\r\n",
        "  print(\"less than 100\")\r\n",
        "elif number == 1000:\r\n",
        "  print(\"entered amount 1000\")\r\n",
        "else:\r\n",
        "  print(\"Unknown\")"
      ],
      "execution_count": 15,
      "outputs": [
        {
          "output_type": "stream",
          "text": [
            "enter the number: 5\n",
            "greater than 0\n"
          ],
          "name": "stdout"
        }
      ]
    },
    {
      "cell_type": "code",
      "metadata": {
        "colab": {
          "base_uri": "https://localhost:8080/"
        },
        "id": "91ThCjTzTQNW",
        "outputId": "93ed424c-bd6c-4cf2-aaab-6b55238374ad"
      },
      "source": [
        "height = float(input(\"enter the height in meters: \"))\r\n",
        "weight = int(input(\"enter the weight in kgs: \"))\r\n",
        "BMI = weight / height ** 2\r\n",
        "BMI_new = int(BMI)\r\n",
        "print(BMI_new)\r\n",
        "\r\n",
        "if BMI_new < 18.5:\r\n",
        "  print(f\"underweight result. Your BMI is {BMI_new}\")\r\n",
        "elif 18.5 < BMI_new < 25:\r\n",
        "  print(f\"Normal weight result. Your BMI is {BMI_new}\")\r\n",
        "elif 25 < BMI_new < 30:\r\n",
        "  print(f\"Overweight result. Your BMI is {BMI_new}\")\r\n",
        "elif 30 < BMI_new < 35:\r\n",
        "  print(f\"obese {BMI_new}\")\r\n",
        "else:\r\n",
        "  print(f\"clinically obese result. Your BMI is  {BMI_new}\")\r\n"
      ],
      "execution_count": 30,
      "outputs": [
        {
          "output_type": "stream",
          "text": [
            "enter the height in meters: 1.8\n",
            "enter the weight in kgs: 140\n",
            "43\n",
            "clinically obese  43\n"
          ],
          "name": "stdout"
        }
      ]
    },
    {
      "cell_type": "code",
      "metadata": {
        "colab": {
          "base_uri": "https://localhost:8080/"
        },
        "id": "F_-09jeCYI8b",
        "outputId": "9d1bb358-89e6-4d82-e28f-f5f3195ae049"
      },
      "source": [
        "#leap year\r\n",
        "year = int(input(\"enter year: \"))\r\n",
        "if year % 4 == 0:\r\n",
        "  print(\"leap\")\r\n",
        "  if year % 100 == 0:\r\n",
        "    print(\"not leap\")\r\n",
        "    if year % 400 == 0:\r\n",
        "      print(\"leap\")\r\n",
        "    else: \r\n",
        "      print(\"not leap 400\")\r\n",
        "  else: \r\n",
        "      print(\"leap 100\")\r\n",
        "else: \r\n",
        "      print(\"not leap 4\")"
      ],
      "execution_count": 3,
      "outputs": [
        {
          "output_type": "stream",
          "text": [
            "enter year: 2100\n",
            "leap\n",
            "not leap\n",
            "not leap 400\n"
          ],
          "name": "stdout"
        }
      ]
    },
    {
      "cell_type": "code",
      "metadata": {
        "colab": {
          "base_uri": "https://localhost:8080/"
        },
        "id": "h7Wks5ECGNTp",
        "outputId": "a89a7d9d-86ca-4bf6-c307-b4bbe129dc0f"
      },
      "source": [
        "height = int(input(\"Enter height in CM: \"))\r\n",
        "age = int(input(\"Enter age: \"))\r\n",
        "\r\n",
        "\r\n",
        "if height >= 120:\r\n",
        "  print(\"can ride\")\r\n",
        "  if age >= 18:\r\n",
        "    bill = 12\r\n",
        "    print(f\" Adult +$12 {bill}\")\r\n",
        "  if age < 12:\r\n",
        "    bill = 5\r\n",
        "    print(f\" child +$5 {bill}\")\r\n",
        "  if 12 <= age > 18 :\r\n",
        "    bill = 7\r\n",
        "    print(f\" young +$7 {bill}\")\r\n",
        "  photo = bool(input(\"want photo? \"))\r\n",
        "  if photo == True :\r\n",
        "    bill = bill + 3\r\n",
        "    #bill += 3\r\n",
        "    \r\n",
        "    Print(f\"Total Bill: {bill}\")\r\n",
        "  else:\r\n",
        "    Print(f\"Total Bill: {bill}\")\r\n",
        "  \r\n",
        "else:\r\n",
        "  print(\"cant ride\")\r\n"
      ],
      "execution_count": 12,
      "outputs": [
        {
          "output_type": "stream",
          "text": [
            "Enter height in CM: 120\n",
            "Enter age: 18\n",
            "can ride\n",
            "+$12 12\n",
            "want photo? True\n",
            "+$3 15\n"
          ],
          "name": "stdout"
        }
      ]
    },
    {
      "cell_type": "code",
      "metadata": {
        "colab": {
          "base_uri": "https://localhost:8080/"
        },
        "id": "-ukVOrCxL6HM",
        "outputId": "5abc9f29-eba8-4410-f44e-c068e602f473"
      },
      "source": [
        "print(\"Welcome to Kirus Pizza Center !\")\r\n",
        "size = input(\"Enter the size of the pizza ! S, M, L  \")\r\n",
        "add_extra_pepperoni = input(\"Want extra pepperoni: Y or No  \")\r\n",
        "add_extra_cheese = input(\"Want extra cheese: Y or N  \")\r\n",
        "\r\n",
        "if size == \"S\":\r\n",
        "  bill = 15\r\n",
        "  print(f\"Add $15 : {bill}\")\r\n",
        "    \r\n",
        "elif size == \"M\":\r\n",
        "  bill = 20\r\n",
        "  print(f\"Add $20 : {bill}\")\r\n",
        "  \r\n",
        "elif size == \"L\":\r\n",
        "  bill = 25\r\n",
        "  print(f\"Add $25 : {bill}\")\r\n",
        "  \r\n",
        "if add_extra_pepperoni == \"Y\":\r\n",
        "  if size == \"S\":\r\n",
        "    bill += 2\r\n",
        "    print(f\"Pepperoni for small: {bill}\")\r\n",
        "\r\n",
        "  else:\r\n",
        "    bill += 3\r\n",
        "    print(f\"Pepperoni for medium or large: {bill}\")\r\n",
        "\r\n",
        "\r\n",
        "if add_extra_cheese == \"Y\":\r\n",
        "  bill += 1\r\n",
        "\r\n",
        "\r\n",
        "print(f\"Your final bill is : {bill}\")\r\n"
      ],
      "execution_count": 24,
      "outputs": [
        {
          "output_type": "stream",
          "text": [
            "Welcome to Kirus Pizza Center !\n",
            "Enter the size of the pizza ! S, M, L  S\n",
            "Want extra pepperoni: Y or No  Y\n",
            "Want extra cheese: Y or N  Y\n",
            "Add $15 : 15\n",
            "Pepperoni for small: 17\n",
            "Your final bill is : 18\n"
          ],
          "name": "stdout"
        }
      ]
    },
    {
      "cell_type": "code",
      "metadata": {
        "colab": {
          "base_uri": "https://localhost:8080/"
        },
        "id": "3AwSWiVSR9q_",
        "outputId": "593b479b-2586-4b77-bf20-6519a21d45fa"
      },
      "source": [
        "height = int(input(\"Enter height in CM: \"))\r\n",
        "age = int(input(\"Enter age: \"))\r\n",
        "bill = 0\r\n",
        "\r\n",
        "if height >= 120:\r\n",
        "  print(\"can ride\")\r\n",
        "  if age == 18:\r\n",
        "    bill += 12\r\n",
        "    print(f\" Adult +$12 {bill}\")\r\n",
        "  elif age < 12:\r\n",
        "    bill += 5\r\n",
        "    print(f\" child +$5 {bill}\")\r\n",
        "  elif 12 <= age < 18 :\r\n",
        "    bill += 7\r\n",
        "    print(f\" young +$7 {bill}\")\r\n",
        "  elif 45 <= age >= 55:\r\n",
        "    bill += 0\r\n",
        "  print(f\" free for senior +$0 {bill}\")\r\n",
        "  \r\n",
        "  photo = bool(input(\"want photo? \"))\r\n",
        "  if photo == True :\r\n",
        "    bill = bill + 3\r\n",
        "    #bill += 3\r\n",
        "    \r\n",
        "    print(f\"Total Bill: {bill}\")\r\n",
        "  else:\r\n",
        "    print(f\"Total Bill: {bill}\")\r\n",
        "\r\n",
        "  \r\n",
        "\r\n",
        "else:\r\n",
        "  print(\"cant ride\")\r\n"
      ],
      "execution_count": 33,
      "outputs": [
        {
          "output_type": "stream",
          "text": [
            "Enter height in CM: 120\n",
            "Enter age: 50\n",
            "can ride\n",
            "want photo? True\n",
            "Total Bill: 3\n",
            " free for senior +$0 3\n"
          ],
          "name": "stdout"
        }
      ]
    },
    {
      "cell_type": "code",
      "metadata": {
        "colab": {
          "base_uri": "https://localhost:8080/"
        },
        "id": "b3DQ58RMXWNY",
        "outputId": "5e654498-c9b3-4f23-a774-134901c8a623"
      },
      "source": [
        "name1 = input(\"enter name1: \")\r\n",
        "name2 = input(\"enter name2: \")\r\n",
        "\r\n",
        "combine = name1 + name2\r\n",
        "\r\n",
        "combine_str = combine.lower()\r\n",
        "c=0\r\n",
        "T= combine_str.count('t')\r\n",
        "print(f\"T occures {T} times\")\r\n",
        "R= combine_str.count('r')\r\n",
        "print(f\"R occures {R} times\")\r\n",
        "U= combine_str.count('u')\r\n",
        "print(f\"U occures {U} times\")\r\n",
        "E= combine_str.count('e')\r\n",
        "print(f\"E occures {E} times\")\r\n",
        "sum = T+R+U+E\r\n",
        "print(f\"Total= {sum}\")\r\n",
        "\r\n",
        "L= combine_str.count('l')\r\n",
        "print(f\"L occures {L} times\")\r\n",
        "O= combine_str.count('o')\r\n",
        "print(f\"O occures {O} times\")\r\n",
        "V= combine_str.count('v')\r\n",
        "print(f\"V occures {V} times\")\r\n",
        "E= combine_str.count('e')\r\n",
        "print(f\"E occures {E} times\")\r\n",
        "sum1= L+O+V+E\r\n",
        "print(f\"Total= {sum1}\")\r\n",
        "\r\n",
        "love_score = str(sum) + str(sum1)\r\n",
        "love_score = int(love_score)\r\n",
        "if (love_score < 10) or ( love_score > 90):\r\n",
        "  print(f\"your score is {love_score}, you go together like coke and mentos\")\r\n",
        "elif (love_score >=40) and (love_score <= 50):\r\n",
        "  print(f\"your score is {love_score}, you are alright together\")\r\n",
        "else:\r\n",
        "  print(f\"your score is {love_score}\")"
      ],
      "execution_count": 64,
      "outputs": [
        {
          "output_type": "stream",
          "text": [
            "enter name1: tom\n",
            "enter name2: jerry\n",
            "T occures 1 times\n",
            "R occures 2 times\n",
            "U occures 0 times\n",
            "E occures 1 times\n",
            "Total= 4\n",
            "L occures 0 times\n",
            "O occures 1 times\n",
            "V occures 0 times\n",
            "E occures 1 times\n",
            "Total= 2\n",
            "your score is 42, you are alright together\n"
          ],
          "name": "stdout"
        }
      ]
    },
    {
      "cell_type": "code",
      "metadata": {
        "colab": {
          "base_uri": "https://localhost:8080/"
        },
        "id": "G7EMyVUBdwu0",
        "outputId": "b7abe045-4cbe-4542-f4b5-720b82181bf7"
      },
      "source": [
        "print(\"Hello!, Welcome all to Treasure island!\")\r\n",
        "\r\n",
        "print(\r\n",
        "'''''''''''''''''''''''''''''''''''''''''''''''\r\n",
        "-----------------------------------------------\r\n",
        "......../////////..................////////////\r\n",
        "-----------------------------------------------\r\n",
        "//////...........////////////..........////////\r\n",
        "....///////..........///////.........//////////\r\n",
        "***********************************************\r\n",
        "0;0;..........0;...........0............0-===..\r\n",
        "***********************************************\r\n",
        "-----------------------------------------------\r\n",
        "'''''''''''''''''''''''''''''''''''''''''''''''\r\n",
        ")\r\n",
        "direction = input(\"left or right ? \")\r\n",
        "if direction ==\"right\":\r\n",
        "  print(\"Game Over\")\r\n",
        "else:\r\n",
        "  swim = input(\"swim or wait? \")\r\n",
        "  if swim == \"swim\":\r\n",
        "    print(\"Game over\")\r\n",
        "  else:\r\n",
        "    door = input(\"which door? Red, Blue or Yellow \")\r\n",
        "    if door == \"Blue\":\r\n",
        "      print(\"Game Over\")\r\n",
        "    elif door == \"Red\":\r\n",
        "      print(\"Game Over\")\r\n",
        "    else:\r\n",
        "      print(\"Game Win\")\r\n",
        "\r\n"
      ],
      "execution_count": 66,
      "outputs": [
        {
          "output_type": "stream",
          "text": [
            "Hello!, Welcome all to Treasure island!\n",
            "''\n",
            "-----------------------------------------------\n",
            "......../////////..................////////////\n",
            "-----------------------------------------------\n",
            "//////...........////////////..........////////\n",
            "....///////..........///////.........//////////\n",
            "***********************************************\n",
            "0;0;..........0;...........0............0-===..\n",
            "***********************************************\n",
            "-----------------------------------------------\n",
            "\n",
            "left or right ? left\n",
            "swim or wait? wait\n",
            "which door? Red, Blue or Yellow Yellow\n",
            "Game Win\n"
          ],
          "name": "stdout"
        }
      ]
    }
  ]
}