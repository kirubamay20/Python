import pandas as pd 
train_df=pd.read_csv('train.csv')
print(train_df.shape)
print(train_df.head())
test_df=pd.read_csv('test.csv')
print(test_df.shape)
print(test_df.head())
train_df.columns
print(train_df.dtypes)
train_df.isnull().sum()
#cat= [Gender, Vehicle_age, Vehicle_Damage]
#train_df=train_df[cat]
from sklearn.preprocessing import LabelEncoder
LE=LabelEncoder()
train_df['Gender']=LE.fit_transform(train_df['Gender'])
train_df['Vehicle_Age']=LE.fit_transform(train_df['Vehicle_Age'])
train_df['Vehicle_Damage']=LE.fit_transform(train_df['Vehicle_Damage'])
train_x = train_df.loc[:, train_df.columns != 'Response']
train_y = train_df['Response']
#Import Random Forest Model
from sklearn.ensemble import RandomForestClassifier

#Create a Gaussian Classifier
clf = RandomForestClassifier(n_estimators=10)

#Train the model using the training sets y_pred=clf.predict(X_test)
clf.fit(train_x,train_y)

x_pred=clf.predict(train_x)
from sklearn.preprocessing import LabelEncoder
LE=LabelEncoder()
test_df['Gender']=LE.fit_transform(test_df['Gender'])
test_df['Vehicle_Age']=LE.fit_transform(test_df['Vehicle_Age'])
test_df['Vehicle_Damage']=LE.fit_transform(test_df['Vehicle_Damage'])
pred_test_x = clf.predict(test_df)
pred_test_x= pd.DataFrame(pred_test_x)
#pred_test_x.to_csv('/sample_data/pred_test_x.csv')
from google.colab import files
files.download("pred_test_x.csv")
from sklearn import metrics
train_match=(x_pred == train_y)
train_match.sum()/float(len(train_match))
